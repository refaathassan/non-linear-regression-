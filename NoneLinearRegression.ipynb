{
  "nbformat": 4,
  "nbformat_minor": 0,
  "metadata": {
    "kernelspec": {
      "display_name": "Python 3",
      "language": "python",
      "name": "python3"
    },
    "language_info": {
      "codemirror_mode": {
        "name": "ipython",
        "version": 3
      },
      "file_extension": ".py",
      "mimetype": "text/x-python",
      "name": "python",
      "nbconvert_exporter": "python",
      "pygments_lexer": "ipython3",
      "version": "3.7.6"
    },
    "colab": {
      "name": "ML0101EN-Reg-NoneLinearRegression-py-v1.ipynb",
      "provenance": [],
      "include_colab_link": true
    }
  },
  "cells": [
    {
      "cell_type": "markdown",
      "metadata": {
        "id": "view-in-github",
        "colab_type": "text"
      },
      "source": [
        "<a href=\"https://colab.research.google.com/github/refaathassan/non-linear-regression-/blob/main/NoneLinearRegression.ipynb\" target=\"_parent\"><img src=\"https://colab.research.google.com/assets/colab-badge.svg\" alt=\"Open In Colab\"/></a>"
      ]
    },
    {
      "cell_type": "markdown",
      "metadata": {
        "id": "E99lQbY9-MIs"
      },
      "source": [
        "<center>\n",
        "    <img src=\"https://cf-courses-data.s3.us.cloud-object-storage.appdomain.cloud/IBMDeveloperSkillsNetwork-ML0101EN-SkillsNetwork/labs/Module%202/images/IDSNlogo.png\" width=\"300\" alt=\"cognitiveclass.ai logo\"  />\n",
        "</center>\n",
        "\n",
        "# Non Linear Regression Analysis\n",
        "\n",
        "Estimated time needed: **20** minutes\n",
        "\n",
        "## Objectives\n",
        "\n",
        "After completing this lab you will be able to:\n",
        "\n",
        "-   Differentiate between Linear and non-linear regression\n",
        "-   Use Non-linear regression model in Python\n"
      ]
    },
    {
      "cell_type": "markdown",
      "metadata": {
        "id": "PXLTTPRI-MIw"
      },
      "source": [
        "If the data shows a curvy trend, then linear regression will not produce very accurate results when compared to a non-linear regression because, as the name implies, linear regression presumes that the data is linear. \n",
        "Let's learn about non linear regressions and apply an example on python. In this notebook, we fit a non-linear model to the datapoints corrensponding to China's GDP from 1960 to 2014.\n"
      ]
    },
    {
      "cell_type": "markdown",
      "metadata": {
        "id": "7iZkxfCj-MIx"
      },
      "source": [
        "<h2 id=\"importing_libraries\">Importing required libraries</h2>\n"
      ]
    },
    {
      "cell_type": "code",
      "metadata": {
        "id": "QM1o_bpe-MIy"
      },
      "source": [
        "import numpy as np\n",
        "import matplotlib.pyplot as plt\n",
        "%matplotlib inline"
      ],
      "execution_count": 1,
      "outputs": []
    },
    {
      "cell_type": "markdown",
      "metadata": {
        "id": "Sof-N8rM-MIz"
      },
      "source": [
        "Though Linear regression is very good to solve many problems, it cannot be used for all datasets. First recall how linear regression, could model a dataset. It models a linear relation between a dependent variable y and independent variable x. It had a simple equation, of degree 1, for example y = $2x$ + 3.\n"
      ]
    },
    {
      "cell_type": "code",
      "metadata": {
        "colab": {
          "base_uri": "https://localhost:8080/",
          "height": 279
        },
        "id": "3s_n77PU-MIz",
        "outputId": "eee52dda-da6f-4c3c-e925-e89d700a49f7"
      },
      "source": [
        "x = np.arange(-5.0, 5.0, 0.1)\n",
        "\n",
        "##You can adjust the slope and intercept to verify the changes in the graph\n",
        "y = 2*(x) + 3\n",
        "y_noise = 2 * np.random.normal(size=x.size)\n",
        "ydata = y + y_noise\n",
        "#plt.figure(figsize=(8,6))\n",
        "plt.plot(x, ydata,  'bo')\n",
        "plt.plot(x,y, 'r') \n",
        "plt.ylabel('Dependent Variable')\n",
        "plt.xlabel('Independent Variable')\n",
        "plt.show()"
      ],
      "execution_count": 2,
      "outputs": [
        {
          "output_type": "display_data",
          "data": {
            "image/png": "[encoded data removed]",
            "text/plain": [
              "<Figure size 432x288 with 1 Axes>"
            ]
          },
          "metadata": {
            "tags": [],
            "needs_background": "light"
          }
        }
      ]
    },
    {
      "cell_type": "markdown",
      "metadata": {
        "id": "Ae_-rMUN-MI0"
      },
      "source": [
        "Non-linear regressions are a relationship between independent variables $x$ and a dependent variable $y$ which result in a non-linear function modeled data. Essentially any relationship that is not linear can be termed as non-linear, and is usually represented by the polynomial of $k$ degrees (maximum power of $x$). \n",
        "\n",
        "$$ \\ y = a x^3 + b x^2 + c x + d \\ $$\n",
        "\n",
        "Non-linear functions can have elements like exponentials, logarithms, fractions, and others. For example: $$ y = \\log(x)$$\n",
        "\n",
        "Or even, more complicated such as :\n",
        "$$ y = \\log(a x^3 + b x^2 + c x + d)$$\n"
      ]
    },
    {
      "cell_type": "markdown",
      "metadata": {
        "id": "z939HgMR-MI0"
      },
      "source": [
        "Let's take a look at a cubic function's graph.\n"
      ]
    },
    {
      "cell_type": "code",
      "metadata": {
        "colab": {
          "base_uri": "https://localhost:8080/",
          "height": 279
        },
        "id": "8R8pQW6F-MI1",
        "outputId": "a02025a6-8662-4646-b101-8a1f3e2c81cd"
      },
      "source": [
        "x = np.arange(-5.0, 5.0, 0.1)\n",
        "\n",
        "##You can adjust the slope and intercept to verify the changes in the graph\n",
        "y = 1*(x**3) + 1*(x**2) + 1*x + 3\n",
        "y_noise = 20 * np.random.normal(size=x.size)\n",
        "ydata = y + y_noise\n",
        "plt.plot(x, ydata,  'bo')\n",
        "plt.plot(x,y, 'r') \n",
        "plt.ylabel('Dependent Variable')\n",
        "plt.xlabel('Independent Variable')\n",
        "plt.show()"
      ],
      "execution_count": 3,
      "outputs": [
        {
          "output_type": "display_data",
          "data": {
            "image/png": "[encoded data removed]",
            "text/plain": [
              "<Figure size 432x288 with 1 Axes>"
            ]
          },
          "metadata": {
            "tags": [],
            "needs_background": "light"
          }
        }
      ]
    },
    {
      "cell_type": "markdown",
      "metadata": {
        "id": "rsH1xleu-MI1"
      },
      "source": [
        "As you can see, this function has $x^3$ and $x^2$ as independent variables. Also, the graphic of this function is not a straight line over the 2D plane. So this is a non-linear function.\n"
      ]
    },
    {
      "cell_type": "markdown",
      "metadata": {
        "id": "iE_IzjVq-MI3"
      },
      "source": [
        "Some other types of non-linear functions are:\n"
      ]
    },
    {
      "cell_type": "markdown",
      "metadata": {
        "id": "I_ruJhAu-MI3"
      },
      "source": [
        "### Quadratic\n"
      ]
    },
    {
      "cell_type": "markdown",
      "metadata": {
        "id": "5_wx3db_-MI4"
      },
      "source": [
        "$$ Y = X^2 $$\n"
      ]
    },
    {
      "cell_type": "code",
      "metadata": {
        "colab": {
          "base_uri": "https://localhost:8080/",
          "height": 279
        },
        "id": "nF4G_xj5-MI4",
        "outputId": "25788ad6-62ab-4a94-fd47-c372ae804568"
      },
      "source": [
        "x = np.arange(-5.0, 5.0, 0.1)\n",
        "\n",
        "##You can adjust the slope and intercept to verify the changes in the graph\n",
        "\n",
        "y = np.power(x,2)\n",
        "y_noise = 2 * np.random.normal(size=x.size)\n",
        "ydata = y + y_noise\n",
        "plt.plot(x, ydata,  'bo')\n",
        "plt.plot(x,y, 'r') \n",
        "plt.ylabel('Dependent Variable')\n",
        "plt.xlabel('Independent Variable')\n",
        "plt.show()"
      ],
      "execution_count": 4,
      "outputs": [
        {
          "output_type": "display_data",
          "data": {
            "image/png": "[encoded data removed]",
            "text/plain": [
              "<Figure size 432x288 with 1 Axes>"
            ]
          },
          "metadata": {
            "tags": [],
            "needs_background": "light"
          }
        }
      ]
    },
    {
      "cell_type": "markdown",
      "metadata": {
        "id": "YUpNq0hI-MI5"
      },
      "source": [
        "### Exponential\n"
      ]
    },
    {
      "cell_type": "markdown",
      "metadata": {
        "id": "gPopIQ73-MI5"
      },
      "source": [
        "An exponential function with base c is defined by $$ Y = a + b c^X$$ where b ≠0, c > 0 , c ≠1, and x is any real number. The base, c, is constant and the exponent, x, is a variable. \n"
      ]
    },
    {
      "cell_type": "code",
      "metadata": {
        "colab": {
          "base_uri": "https://localhost:8080/",
          "height": 282
        },
        "id": "_MmBzGR3-MI5",
        "outputId": "7318d200-29c3-4d14-9c3c-e8dac65b04d9"
      },
      "source": [
        "X = np.arange(-5.0, 5.0, 0.1)\n",
        "\n",
        "##You can adjust the slope and intercept to verify the changes in the graph\n",
        "\n",
        "Y= np.exp(X)\n",
        "\n",
        "plt.plot(X,Y) \n",
        "plt.ylabel('Dependent Variable')\n",
        "plt.xlabel('Independent Variable')\n",
        "plt.show()"
      ],
      "execution_count": 5,
      "outputs": [
        {
          "output_type": "display_data",
          "data": {
            "image/png": "[encoded data removed]",
            "text/plain": [
              "<Figure size 432x288 with 1 Axes>"
            ]
          },
          "metadata": {
            "tags": [],
            "needs_background": "light"
          }
        }
      ]
    },
    {
      "cell_type": "markdown",
      "metadata": {
        "id": "lQ1xZWFX-MI6"
      },
      "source": [
        "### Logarithmic\n",
        "\n",
        "The response $y$ is a results of applying logarithmic map from input $x$'s to output variable $y$. It is one of the simplest form of **log()**: i.e. $$ y = \\log(x)$$\n",
        "\n",
        "Please consider that instead of $x$, we can use $X$, which can be polynomial representation of the $x$'s. In general form it would be written as  \n",
        "\\begin{equation}\n",
        "y = \\log(X)\n",
        "\\end{equation}\n"
      ]
    },
    {
      "cell_type": "code",
      "metadata": {
        "colab": {
          "base_uri": "https://localhost:8080/",
          "height": 335
        },
        "id": "PLXkJeXa-MI6",
        "outputId": "cf201aaf-38c5-49de-f29f-b40baf60ff86"
      },
      "source": [
        "X = np.arange(-5.0, 5.0, 0.1)\n",
        "\n",
        "Y = np.log(X)\n",
        "\n",
        "plt.plot(X,Y) \n",
        "plt.ylabel('Dependent Variable')\n",
        "plt.xlabel('Independent Variable')\n",
        "plt.show()"
      ],
      "execution_count": 6,
      "outputs": [
        {
          "output_type": "stream",
          "text": [
            "/usr/local/lib/python3.7/dist-packages/ipykernel_launcher.py:3: RuntimeWarning: invalid value encountered in log\n",
            "  This is separate from the ipykernel package so we can avoid doing imports until\n"
          ],
          "name": "stderr"
        },
        {
          "output_type": "display_data",
          "data": {
            "image/png": "[encoded data removed]",
            "text/plain": [
              "<Figure size 432x288 with 1 Axes>"
            ]
          },
          "metadata": {
            "tags": [],
            "needs_background": "light"
          }
        }
      ]
    },
    {
      "cell_type": "markdown",
      "metadata": {
        "id": "IFy7RhYd-MI7"
      },
      "source": [
        "### Sigmoidal/Logistic\n"
      ]
    },
    {
      "cell_type": "markdown",
      "metadata": {
        "id": "RfZ24icj-MI7"
      },
      "source": [
        "$$ Y = a + \\frac{b}{1+ c^{(X-d)}}$$\n"
      ]
    },
    {
      "cell_type": "code",
      "metadata": {
        "colab": {
          "base_uri": "https://localhost:8080/",
          "height": 282
        },
        "id": "JLW1hl41-MI7",
        "outputId": "37fb96d3-a3c4-4aa1-f47a-ac9de2cb0e09"
      },
      "source": [
        "X = np.arange(-5.0, 5.0, 0.1)\n",
        "\n",
        "\n",
        "Y = 1-4/(1+np.power(3, X-2))\n",
        "\n",
        "plt.plot(X,Y) \n",
        "plt.ylabel('Dependent Variable')\n",
        "plt.xlabel('Independent Variable')\n",
        "plt.show()"
      ],
      "execution_count": 7,
      "outputs": [
        {
          "output_type": "display_data",
          "data": {
            "image/png": "[encoded data removed]",
            "text/plain": [
              "<Figure size 432x288 with 1 Axes>"
            ]
          },
          "metadata": {
            "tags": [],
            "needs_background": "light"
          }
        }
      ]
    },
    {
      "cell_type": "markdown",
      "metadata": {
        "id": "Vxe7fLIB-MI8"
      },
      "source": [
        "<a id=\"ref2\"></a>\n",
        "\n",
        "# Non-Linear Regression example\n"
      ]
    },
    {
      "cell_type": "markdown",
      "metadata": {
        "id": "6eg4-IVS-MI8"
      },
      "source": [
        "For an example, we're going to try and fit a non-linear model to the datapoints corresponding to China's GDP from 1960 to 2014. We download a dataset with two columns, the first, a year between 1960 and 2014, the second, China's corresponding annual gross domestic income in US dollars for that year. \n"
      ]
    },
    {
      "cell_type": "code",
      "metadata": {
        "colab": {
          "base_uri": "https://localhost:8080/",
          "height": 386
        },
        "id": "be-bUodX-MI9",
        "outputId": "2bf36f4b-5918-45e8-885c-c564cb8c23ba"
      },
      "source": [
        "import numpy as np\n",
        "import pandas as pd\n",
        "\n",
        "#downloading dataset\n",
        "!wget -nv -O china_gdp.csv https://cf-courses-data.s3.us.cloud-object-storage.appdomain.cloud/IBMDeveloperSkillsNetwork-ML0101EN-SkillsNetwork/labs/Module%202/data/china_gdp.csv\n",
        "    \n",
        "df = pd.read_csv(\"china_gdp.csv\")\n",
        "df.head(10)"
      ],
      "execution_count": 8,
      "outputs": [
        {
          "output_type": "stream",
          "text": [
            "2021-04-26 02:19:12 URL:https://cf-courses-data.s3.us.cloud-object-storage.appdomain.cloud/IBMDeveloperSkillsNetwork-ML0101EN-SkillsNetwork/labs/Module%202/data/china_gdp.csv [1218/1218] -> \"china_gdp.csv\" [1]\n"
          ],
          "name": "stdout"
        },
        {
          "output_type": "execute_result",
          "data": {
            "text/html": [
              "<div>\n",
              "<style scoped>\n",
              "    .dataframe tbody tr th:only-of-type {\n",
              "        vertical-align: middle;\n",
              "    }\n",
              "\n",
              "    .dataframe tbody tr th {\n",
              "        vertical-align: top;\n",
              "    }\n",
              "\n",
              "    .dataframe thead th {\n",
              "        text-align: right;\n",
              "    }\n",
              "</style>\n",
              "<table border=\"1\" class=\"dataframe\">\n",
              "  <thead>\n",
              "    <tr style=\"text-align: right;\">\n",
              "      <th></th>\n",
              "      <th>Year</th>\n",
              "      <th>Value</th>\n",
              "    </tr>\n",
              "  </thead>\n",
              "  <tbody>\n",
              "    <tr>\n",
              "      <th>0</th>\n",
              "      <td>1960</td>\n",
              "      <td>5.918412e+10</td>\n",
              "    </tr>\n",
              "    <tr>\n",
              "      <th>1</th>\n",
              "      <td>1961</td>\n",
              "      <td>4.955705e+10</td>\n",
              "    </tr>\n",
              "    <tr>\n",
              "      <th>2</th>\n",
              "      <td>1962</td>\n",
              "      <td>4.668518e+10</td>\n",
              "    </tr>\n",
              "    <tr>\n",
              "      <th>3</th>\n",
              "      <td>1963</td>\n",
              "      <td>5.009730e+10</td>\n",
              "    </tr>\n",
              "    <tr>\n",
              "      <th>4</th>\n",
              "      <td>1964</td>\n",
              "      <td>5.906225e+10</td>\n",
              "    </tr>\n",
              "    <tr>\n",
              "      <th>5</th>\n",
              "      <td>1965</td>\n",
              "      <td>6.970915e+10</td>\n",
              "    </tr>\n",
              "    <tr>\n",
              "      <th>6</th>\n",
              "      <td>1966</td>\n",
              "      <td>7.587943e+10</td>\n",
              "    </tr>\n",
              "    <tr>\n",
              "      <th>7</th>\n",
              "      <td>1967</td>\n",
              "      <td>7.205703e+10</td>\n",
              "    </tr>\n",
              "    <tr>\n",
              "      <th>8</th>\n",
              "      <td>1968</td>\n",
              "      <td>6.999350e+10</td>\n",
              "    </tr>\n",
              "    <tr>\n",
              "      <th>9</th>\n",
              "      <td>1969</td>\n",
              "      <td>7.871882e+10</td>\n",
              "    </tr>\n",
              "  </tbody>\n",
              "</table>\n",
              "</div>"
            ],
            "text/plain": [
              "   Year         Value\n",
              "0  1960  5.918412e+10\n",
              "1  1961  4.955705e+10\n",
              "2  1962  4.668518e+10\n",
              "3  1963  5.009730e+10\n",
              "4  1964  5.906225e+10\n",
              "5  1965  6.970915e+10\n",
              "6  1966  7.587943e+10\n",
              "7  1967  7.205703e+10\n",
              "8  1968  6.999350e+10\n",
              "9  1969  7.871882e+10"
            ]
          },
          "metadata": {
            "tags": []
          },
          "execution_count": 8
        }
      ]
    },
    {
      "cell_type": "markdown",
      "metadata": {
        "id": "cMfSnpi_-MI9"
      },
      "source": [
        "**Did you know?** When it comes to Machine Learning, you will likely be working with large datasets. As a business, where can you host your data? IBM is offering a unique opportunity for businesses, with 10 Tb of IBM Cloud Object Storage: [Sign up now for free](http://cocl.us/ML0101EN-IBM-Offer-CC)\n"
      ]
    },
    {
      "cell_type": "markdown",
      "metadata": {
        "id": "E8-gnIlf-MI-"
      },
      "source": [
        "### Plotting the Dataset\n",
        "\n",
        "This is what the datapoints look like. It kind of looks like an either logistic or exponential function. The growth starts off slow, then from 2005 on forward, the growth is very significant. And finally, it decelerate slightly in the 2010s.\n"
      ]
    },
    {
      "cell_type": "code",
      "metadata": {
        "colab": {
          "base_uri": "https://localhost:8080/",
          "height": 345
        },
        "id": "r5hToxjs-MJA",
        "outputId": "ceef9a46-fa8e-4167-b1b7-7f963009c150"
      },
      "source": [
        "plt.figure(figsize=(8,5))\n",
        "x_data, y_data = (df[\"Year\"].values, df[\"Value\"].values)\n",
        "plt.plot(x_data, y_data, 'ro')\n",
        "plt.ylabel('GDP')\n",
        "plt.xlabel('Year')\n",
        "plt.show()"
      ],
      "execution_count": 9,
      "outputs": [
        {
          "output_type": "display_data",
          "data": {
            "image/png": "[encoded data removed]",
            "text/plain": [
              "<Figure size 576x360 with 1 Axes>"
            ]
          },
          "metadata": {
            "tags": [],
            "needs_background": "light"
          }
        }
      ]
    },
    {
      "cell_type": "markdown",
      "metadata": {
        "id": "nuE9qIio-MJA"
      },
      "source": [
        "### Choosing a model\n",
        "\n",
        "From an initial look at the plot, we determine that the logistic function could be a good approximation,\n",
        "since it has the property of starting with a slow growth, increasing growth in the middle, and then decreasing again at the end; as illustrated below:\n"
      ]
    },
    {
      "cell_type": "code",
      "metadata": {
        "colab": {
          "base_uri": "https://localhost:8080/",
          "height": 279
        },
        "id": "z7q_Y93I-MJB",
        "outputId": "b65606ec-4f3f-4a3f-8d84-db56eea6d381"
      },
      "source": [
        "X = np.arange(-5.0, 5.0, 0.1)\n",
        "Y = 1.0 / (1.0 + np.exp(-X))\n",
        "\n",
        "plt.plot(X,Y) \n",
        "plt.ylabel('Dependent Variable')\n",
        "plt.xlabel('Independent Variable')\n",
        "plt.show()"
      ],
      "execution_count": 10,
      "outputs": [
        {
          "output_type": "display_data",
          "data": {
            "image/png": "[encoded data removed]",
            "text/plain": [
              "<Figure size 432x288 with 1 Axes>"
            ]
          },
          "metadata": {
            "tags": [],
            "needs_background": "light"
          }
        }
      ]
    },
    {
      "cell_type": "markdown",
      "metadata": {
        "id": "HlEZLIlu-MJB"
      },
      "source": [
        "The formula for the logistic function is the following:\n",
        "\n",
        "$$ \\hat{Y} = \\frac1{1+e^{\\beta_1(X-\\beta_2)}}$$\n",
        "\n",
        "$\\beta_1$: Controls the curve's steepness,\n",
        "\n",
        "$\\beta_2$: Slides the curve on the x-axis.\n"
      ]
    },
    {
      "cell_type": "markdown",
      "metadata": {
        "id": "RG_bn9TQ-MJB"
      },
      "source": [
        "### Building The Model\n",
        "\n",
        "Now, let's build our regression model and initialize its parameters. \n"
      ]
    },
    {
      "cell_type": "code",
      "metadata": {
        "id": "j_cBizhC-MJC"
      },
      "source": [
        "def sigmoid(x, Beta_1, Beta_2):\n",
        "     y = 1 / (1 + np.exp(-Beta_1*(x-Beta_2)))\n",
        "     return y"
      ],
      "execution_count": 11,
      "outputs": []
    },
    {
      "cell_type": "markdown",
      "metadata": {
        "id": "yOOU2Qp2-MJC"
      },
      "source": [
        "Lets look at a sample sigmoid line that might fit with the data:\n"
      ]
    },
    {
      "cell_type": "code",
      "metadata": {
        "colab": {
          "base_uri": "https://localhost:8080/",
          "height": 295
        },
        "id": "3xwnfK-n-MJC",
        "outputId": "9b7df6ca-175b-4c08-d90c-19a5e076dc60"
      },
      "source": [
        "beta_1 = 0.10\n",
        "beta_2 = 1990.0\n",
        "\n",
        "#logistic function\n",
        "Y_pred = sigmoid(x_data, beta_1 , beta_2)\n",
        "\n",
        "#plot initial prediction against datapoints\n",
        "plt.plot(x_data, Y_pred*15000000000000.)\n",
        "plt.plot(x_data, y_data, 'ro')"
      ],
      "execution_count": 12,
      "outputs": [
        {
          "output_type": "execute_result",
          "data": {
            "text/plain": [
              "[<matplotlib.lines.Line2D at 0x7f852139b190>]"
            ]
          },
          "metadata": {
            "tags": []
          },
          "execution_count": 12
        },
        {
          "output_type": "display_data",
          "data": {
            "image/png": "[encoded data removed]",
            "text/plain": [
              "<Figure size 432x288 with 1 Axes>"
            ]
          },
          "metadata": {
            "tags": [],
            "needs_background": "light"
          }
        }
      ]
    },
    {
      "cell_type": "markdown",
      "metadata": {
        "id": "7y7Rj9kK-MJD"
      },
      "source": [
        "Our task here is to find the best parameters for our model. Lets first normalize our x and y:\n"
      ]
    },
    {
      "cell_type": "code",
      "metadata": {
        "id": "9Arq1SQi-MJD"
      },
      "source": [
        "# Lets normalize our data\n",
        "xdata =x_data/max(x_data)\n",
        "ydata =y_data/max(y_data)"
      ],
      "execution_count": 13,
      "outputs": []
    },
    {
      "cell_type": "markdown",
      "metadata": {
        "id": "bEkZ9IRT-MJD"
      },
      "source": [
        "#### How we find the best parameters for our fit line?\n",
        "\n",
        "we can use **curve_fit** which uses non-linear least squares to fit our sigmoid function, to data. Optimal values for the parameters so that the sum of the squared residuals of sigmoid(xdata, *popt) - ydata is minimized.\n",
        "\n",
        "popt are our optimized parameters.\n"
      ]
    },
    {
      "cell_type": "code",
      "metadata": {
        "colab": {
          "base_uri": "https://localhost:8080/"
        },
        "id": "ngzZvjpl-MJE",
        "outputId": "a07aa6b5-9e29-4d6b-93fe-1db609333f42"
      },
      "source": [
        "from scipy.optimize import curve_fit\n",
        "popt, pcov = curve_fit(sigmoid, xdata, ydata)\n",
        "#print the final parameters\n",
        "print(\" beta_1 = %f, beta_2 = %f\" % (popt[0], popt[1]))"
      ],
      "execution_count": 14,
      "outputs": [
        {
          "output_type": "stream",
          "text": [
            " beta_1 = 690.453017, beta_2 = 0.997207\n"
          ],
          "name": "stdout"
        }
      ]
    },
    {
      "cell_type": "markdown",
      "metadata": {
        "id": "_N4dNX0A-MJE"
      },
      "source": [
        "Now we plot our resulting regression model.\n"
      ]
    },
    {
      "cell_type": "code",
      "metadata": {
        "colab": {
          "base_uri": "https://localhost:8080/",
          "height": 334
        },
        "id": "1Ur2xxxi-MJE",
        "outputId": "1076c2ac-e95d-4a54-f19b-c2977878777a"
      },
      "source": [
        "x = np.linspace(1960, 2015, 55)\n",
        "x = x/max(x)\n",
        "plt.figure(figsize=(8,5))\n",
        "y = sigmoid(x, *popt)\n",
        "plt.plot(xdata, ydata, 'ro', label='data')\n",
        "plt.plot(x,y, linewidth=3.0, label='fit')\n",
        "plt.legend(loc='best')\n",
        "plt.ylabel('GDP')\n",
        "plt.xlabel('Year')\n",
        "plt.show()"
      ],
      "execution_count": 15,
      "outputs": [
        {
          "output_type": "display_data",
          "data": {
            "image/png": "[encoded data removed]",
            "text/plain": [
              "<Figure size 576x360 with 1 Axes>"
            ]
          },
          "metadata": {
            "tags": [],
            "needs_background": "light"
          }
        }
      ]
    },
    {
      "cell_type": "markdown",
      "metadata": {
        "id": "Mmflqjm--MJE"
      },
      "source": [
        "## Practice\n",
        "\n",
        "Can you calculate what is the accuracy of our model?\n"
      ]
    }
  ]
}